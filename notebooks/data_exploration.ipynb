{
 "cells": [
  {
   "cell_type": "code",
   "execution_count": 1,
   "metadata": {},
   "outputs": [],
   "source": [
    "from pyspark.sql import SparkSession"
   ]
  },
  {
   "cell_type": "code",
   "execution_count": 2,
   "metadata": {},
   "outputs": [
    {
     "name": "stdout",
     "output_type": "stream",
     "text": [
      "23/02/04 17:34:19 WARN Utils: Your hostname, MacBook-Pro-de-Harrison.local resolves to a loopback address: 127.0.0.1; using 192.168.1.6 instead (on interface en0)\n",
      "23/02/04 17:34:19 WARN Utils: Set SPARK_LOCAL_IP if you need to bind to another address\n"
     ]
    },
    {
     "name": "stderr",
     "output_type": "stream",
     "text": [
      "Setting default log level to \"WARN\".\n",
      "To adjust logging level use sc.setLogLevel(newLevel). For SparkR, use setLogLevel(newLevel).\n"
     ]
    },
    {
     "name": "stdout",
     "output_type": "stream",
     "text": [
      "23/02/04 17:34:19 WARN NativeCodeLoader: Unable to load native-hadoop library for your platform... using builtin-java classes where applicable\n"
     ]
    }
   ],
   "source": [
    "spark = SparkSession\\\n",
    "    .builder\\\n",
    "    .appName(\"twitter_transformation\")\\\n",
    "    .getOrCreate()"
   ]
  },
  {
   "cell_type": "code",
   "execution_count": 3,
   "metadata": {},
   "outputs": [],
   "source": [
    "df = spark.read.json(\"../datalake/twitter_datascience\")"
   ]
  },
  {
   "cell_type": "code",
   "execution_count": 4,
   "metadata": {},
   "outputs": [
    {
     "name": "stdout",
     "output_type": "stream",
     "text": [
      "+--------------------+--------------------+--------------------+------------+\n",
      "|                data|            includes|                meta|extract_date|\n",
      "+--------------------+--------------------+--------------------+------------+\n",
      "|[{159910293197395...|{[{2022-12-03T18:...|{1621659740962017...|  2023-02-04|\n",
      "|[{179520938, 1621...|{[{2010-08-17T14:...|{1621659269673390...|  2023-02-04|\n",
      "|[{159910293197395...|{[{2022-12-03T18:...|{1621658904814829...|  2023-02-04|\n",
      "|[{159910293197395...|{[{2022-12-03T18:...|{1621658691001778...|  2023-02-04|\n",
      "|[{2727683563, 162...|{[{2014-08-12T22:...|{1621658477385875...|  2023-02-04|\n",
      "|[{154615982630840...|{[{2022-07-10T15:...|{1621657851486666...|  2023-02-04|\n",
      "|[{145496934121732...|{[{2021-11-01T00:...|{1621656921311780...|  2023-02-04|\n",
      "|[{2579600334, 162...|{[{2014-06-21T01:...|{1621656410026119...|  2023-02-04|\n",
      "|[{1962532332, 162...|{[{2013-10-15T12:...|{1621655689843154...|  2023-02-04|\n",
      "|[{151192065143448...|{[{2022-04-07T04:...|{1621655060672401...|  2023-02-04|\n",
      "|[{159910293197395...|{[{2022-12-03T18:...|{1621659740962017...|  2023-02-03|\n",
      "|[{179520938, 1621...|{[{2010-08-17T14:...|{1621659269673390...|  2023-02-03|\n",
      "|[{159910293197395...|{[{2022-12-03T18:...|{1621658904814829...|  2023-02-03|\n",
      "|[{159910293197395...|{[{2022-12-03T18:...|{1621658691001778...|  2023-02-03|\n",
      "|[{2727683563, 162...|{[{2014-08-12T22:...|{1621658477385875...|  2023-02-03|\n",
      "|[{154615982630840...|{[{2022-07-10T15:...|{1621657851486666...|  2023-02-03|\n",
      "|[{145496934121732...|{[{2021-11-01T00:...|{1621656921311780...|  2023-02-03|\n",
      "|[{2579600334, 162...|{[{2014-06-21T01:...|{1621656410026119...|  2023-02-03|\n",
      "|[{1962532332, 162...|{[{2013-10-15T12:...|{1621655689843154...|  2023-02-03|\n",
      "|[{151192065143448...|{[{2022-04-07T04:...|{1621655060672401...|  2023-02-03|\n",
      "+--------------------+--------------------+--------------------+------------+\n",
      "only showing top 20 rows\n",
      "\n"
     ]
    }
   ],
   "source": [
    "df.show()"
   ]
  },
  {
   "cell_type": "code",
   "execution_count": 5,
   "metadata": {},
   "outputs": [
    {
     "name": "stdout",
     "output_type": "stream",
     "text": [
      "root\n",
      " |-- data: array (nullable = true)\n",
      " |    |-- element: struct (containsNull = true)\n",
      " |    |    |-- author_id: string (nullable = true)\n",
      " |    |    |-- conversation_id: string (nullable = true)\n",
      " |    |    |-- created_at: string (nullable = true)\n",
      " |    |    |-- edit_history_tweet_ids: array (nullable = true)\n",
      " |    |    |    |-- element: string (containsNull = true)\n",
      " |    |    |-- id: string (nullable = true)\n",
      " |    |    |-- in_reply_to_user_id: string (nullable = true)\n",
      " |    |    |-- lang: string (nullable = true)\n",
      " |    |    |-- public_metrics: struct (nullable = true)\n",
      " |    |    |    |-- impression_count: long (nullable = true)\n",
      " |    |    |    |-- like_count: long (nullable = true)\n",
      " |    |    |    |-- quote_count: long (nullable = true)\n",
      " |    |    |    |-- reply_count: long (nullable = true)\n",
      " |    |    |    |-- retweet_count: long (nullable = true)\n",
      " |    |    |-- text: string (nullable = true)\n",
      " |-- includes: struct (nullable = true)\n",
      " |    |-- users: array (nullable = true)\n",
      " |    |    |-- element: struct (containsNull = true)\n",
      " |    |    |    |-- created_at: string (nullable = true)\n",
      " |    |    |    |-- id: string (nullable = true)\n",
      " |    |    |    |-- name: string (nullable = true)\n",
      " |    |    |    |-- username: string (nullable = true)\n",
      " |-- meta: struct (nullable = true)\n",
      " |    |-- newest_id: string (nullable = true)\n",
      " |    |-- next_token: string (nullable = true)\n",
      " |    |-- oldest_id: string (nullable = true)\n",
      " |    |-- result_count: long (nullable = true)\n",
      " |-- extract_date: date (nullable = true)\n",
      "\n"
     ]
    }
   ],
   "source": [
    "df.printSchema()"
   ]
  },
  {
   "cell_type": "code",
   "execution_count": 6,
   "metadata": {},
   "outputs": [],
   "source": [
    "from pyspark.sql import functions as f"
   ]
  },
  {
   "cell_type": "code",
   "execution_count": 7,
   "metadata": {},
   "outputs": [
    {
     "name": "stdout",
     "output_type": "stream",
     "text": [
      "root\n",
      " |-- col: struct (nullable = true)\n",
      " |    |-- author_id: string (nullable = true)\n",
      " |    |-- conversation_id: string (nullable = true)\n",
      " |    |-- created_at: string (nullable = true)\n",
      " |    |-- edit_history_tweet_ids: array (nullable = true)\n",
      " |    |    |-- element: string (containsNull = true)\n",
      " |    |-- id: string (nullable = true)\n",
      " |    |-- in_reply_to_user_id: string (nullable = true)\n",
      " |    |-- lang: string (nullable = true)\n",
      " |    |-- public_metrics: struct (nullable = true)\n",
      " |    |    |-- impression_count: long (nullable = true)\n",
      " |    |    |-- like_count: long (nullable = true)\n",
      " |    |    |-- quote_count: long (nullable = true)\n",
      " |    |    |-- reply_count: long (nullable = true)\n",
      " |    |    |-- retweet_count: long (nullable = true)\n",
      " |    |-- text: string (nullable = true)\n",
      "\n"
     ]
    }
   ],
   "source": [
    "df.select(f.explode(\"data\")).printSchema()"
   ]
  },
  {
   "cell_type": "code",
   "execution_count": 8,
   "metadata": {},
   "outputs": [
    {
     "name": "stdout",
     "output_type": "stream",
     "text": [
      "+--------------------+\n",
      "|                 col|\n",
      "+--------------------+\n",
      "|{1599102931973951...|\n",
      "|{190097582, 16216...|\n",
      "|{1599102931973951...|\n",
      "|{176696392, 16216...|\n",
      "|{1599102931973951...|\n",
      "|{879829435, 16216...|\n",
      "|{190097582, 16216...|\n",
      "|{1599102931973951...|\n",
      "|{1371551211351121...|\n",
      "|{1599102931973951...|\n",
      "|{179520938, 16216...|\n",
      "|{2704581690, 1621...|\n",
      "|{1599102931973951...|\n",
      "|{65882276, 162165...|\n",
      "|{1599102931973951...|\n",
      "|{1599102931973951...|\n",
      "|{1371551211351121...|\n",
      "|{1599102931973951...|\n",
      "|{236564056, 16216...|\n",
      "|{156666863, 16216...|\n",
      "+--------------------+\n",
      "only showing top 20 rows\n",
      "\n"
     ]
    }
   ],
   "source": [
    "df.select(f.explode(\"data\")).show()"
   ]
  },
  {
   "cell_type": "code",
   "execution_count": 9,
   "metadata": {},
   "outputs": [
    {
     "name": "stdout",
     "output_type": "stream",
     "text": [
      "root\n",
      " |-- author_id: string (nullable = true)\n",
      " |-- conversation_id: string (nullable = true)\n",
      " |-- created_at: string (nullable = true)\n",
      " |-- id: string (nullable = true)\n",
      " |-- impression_count: long (nullable = true)\n",
      " |-- like_count: long (nullable = true)\n",
      " |-- quote_count: long (nullable = true)\n",
      " |-- reply_count: long (nullable = true)\n",
      " |-- retweet_count: long (nullable = true)\n",
      " |-- text: string (nullable = true)\n",
      "\n"
     ]
    }
   ],
   "source": [
    "df.select(f.explode(\"data\").alias(\"tweets\"))\\\n",
    "  .select(\"tweets.author_id\", \"tweets.conversation_id\",\n",
    "        \"tweets.created_at\", \"tweets.id\",\n",
    "        \"tweets.public_metrics.*\", \"tweets.text\").printSchema()"
   ]
  },
  {
   "cell_type": "code",
   "execution_count": 10,
   "metadata": {},
   "outputs": [],
   "source": [
    "tweet_df = df.select(f.explode(\"data\").alias(\"tweets\"))\\\n",
    "  .select(\"tweets.author_id\", \"tweets.conversation_id\",\n",
    "        \"tweets.created_at\", \"tweets.id\",\n",
    "        \"tweets.public_metrics.*\", \"tweets.text\")"
   ]
  },
  {
   "cell_type": "code",
   "execution_count": 11,
   "metadata": {},
   "outputs": [
    {
     "name": "stdout",
     "output_type": "stream",
     "text": [
      "+-------------------+-------------------+--------------------+-------------------+----------------+----------+-----------+-----------+-------------+--------------------+\n",
      "|          author_id|    conversation_id|          created_at|                 id|impression_count|like_count|quote_count|reply_count|retweet_count|                text|\n",
      "+-------------------+-------------------+--------------------+-------------------+----------------+----------+-----------+-----------+-------------+--------------------+\n",
      "|1599102931973951489|1621659740962017280|2023-02-03T23:59:...|1621659740962017280|               0|         0|          0|          0|            0|@IansThewriter1 \\...|\n",
      "|          190097582|1621659738151981056|2023-02-03T23:59:...|1621659738151981056|               0|         0|          0|          0|            1|RT @cuongcz: #ai ...|\n",
      "|1599102931973951489|1621659665334419458|2023-02-03T23:59:...|1621659665334419458|               0|         0|          0|          0|            0|@IansThewriter1 \\...|\n",
      "|          176696392|1621659629871579136|2023-02-03T23:59:...|1621659629871579136|               0|         0|          0|          0|           89|RT @gp_pulipaka: ...|\n",
      "|1599102931973951489|1621659618442092544|2023-02-03T23:59:...|1621659618442092544|               0|         0|          0|          0|            0|@IansThewriter1 \\...|\n",
      "+-------------------+-------------------+--------------------+-------------------+----------------+----------+-----------+-----------+-------------+--------------------+\n",
      "only showing top 5 rows\n",
      "\n"
     ]
    }
   ],
   "source": [
    "tweet_df.show(5)"
   ]
  },
  {
   "cell_type": "code",
   "execution_count": 13,
   "metadata": {},
   "outputs": [
    {
     "name": "stdout",
     "output_type": "stream",
     "text": [
      "root\n",
      " |-- created_at: string (nullable = true)\n",
      " |-- id: string (nullable = true)\n",
      " |-- name: string (nullable = true)\n",
      " |-- username: string (nullable = true)\n",
      "\n"
     ]
    }
   ],
   "source": [
    "df.select(f.explode(\"includes.users\").alias(\"users\")).select(\"users.*\").printSchema()"
   ]
  },
  {
   "cell_type": "code",
   "execution_count": 14,
   "metadata": {},
   "outputs": [],
   "source": [
    "user_df = df.select(f.explode(\"includes.users\").alias(\"users\")).select(\"users.*\")"
   ]
  },
  {
   "cell_type": "code",
   "execution_count": 15,
   "metadata": {},
   "outputs": [
    {
     "name": "stdout",
     "output_type": "stream",
     "text": [
      "+--------------------+-------------------+--------------------+--------------+\n",
      "|          created_at|                 id|                name|      username|\n",
      "+--------------------+-------------------+--------------------+--------------+\n",
      "|2022-12-03T18:07:...|1599102931973951489|PROFICIENT ESSAY ...|IansThewriter1|\n",
      "|2010-09-13T02:13:...|          190097582|        jayeshthakur| jayeshmthakur|\n",
      "|2010-08-10T05:33:...|          176696392|      Hugo Caballero|Hugo_Caballero|\n",
      "|2012-10-14T10:32:...|          879829435|                ruk.| flowery_lapis|\n",
      "|2021-03-15T19:58:...|1371551211351121920|       Python Roboto|  PythonRoboto|\n",
      "+--------------------+-------------------+--------------------+--------------+\n",
      "only showing top 5 rows\n",
      "\n"
     ]
    }
   ],
   "source": [
    "user_df.show(5)"
   ]
  },
  {
   "cell_type": "code",
   "execution_count": 16,
   "metadata": {},
   "outputs": [],
   "source": [
    "tweet_df.coalesce(1).write.mode(\"overwrite\").json('output/tweet')\n",
    "user_df.coalesce(1).write.mode(\"overwrite\").json('output/user')"
   ]
  },
  {
   "cell_type": "code",
   "execution_count": null,
   "metadata": {},
   "outputs": [],
   "source": []
  }
 ],
 "metadata": {
  "kernelspec": {
   "display_name": "Python 3 (ipykernel)",
   "language": "python",
   "name": "python3"
  },
  "language_info": {
   "codemirror_mode": {
    "name": "ipython",
    "version": 3
   },
   "file_extension": ".py",
   "mimetype": "text/x-python",
   "name": "python",
   "nbconvert_exporter": "python",
   "pygments_lexer": "ipython3",
   "version": "3.9.11"
  },
  "vscode": {
   "interpreter": {
    "hash": "024e09e3dcbd5e7a8df4d408c73b010e4f8e45582e2d9d26f4e9413e4fe91340"
   }
  }
 },
 "nbformat": 4,
 "nbformat_minor": 2
}
